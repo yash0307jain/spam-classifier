{
 "cells": [
  {
   "cell_type": "markdown",
   "id": "bf7c44ff",
   "metadata": {},
   "source": [
    "# Import the required libraries"
   ]
  },
  {
   "cell_type": "code",
   "execution_count": 1,
   "id": "4d5255cb",
   "metadata": {},
   "outputs": [],
   "source": [
    "# Regular expression to remove the unwanted charaters\n",
    "import re\n",
    "\n",
    "# Pandas to store the dataset and make the necessary operations for EDA\n",
    "import pandas as pd\n",
    "\n",
    "# NLTK tools to help clean the string for the model to train\n",
    "from nltk.corpus import stopwords\n",
    "from nltk.stem import PorterStemmer\n",
    "from nltk.stem import SnowballStemmer\n",
    "from nltk.stem import WordNetLemmatizer\n",
    "\n",
    "# Tfdf vectorizer to convert the words into vectors\n",
    "from sklearn.feature_extraction.text import TfidfVectorizer\n",
    "\n",
    "# To split the data for train and test\n",
    "from sklearn.model_selection import train_test_split\n",
    "\n",
    "# Model we used to train our data\n",
    "from sklearn.naive_bayes import MultinomialNB\n",
    "\n",
    "# Metrics to measure the performance and accuracy for the model\n",
    "from sklearn.metrics import confusion_matrix, accuracy_score\n",
    "\n",
    "# Calculate the model running time\n",
    "import time"
   ]
  },
  {
   "cell_type": "markdown",
   "id": "78248803",
   "metadata": {},
   "source": [
    "# Exploratory Data Analysis"
   ]
  },
  {
   "cell_type": "markdown",
   "id": "c6685cd0",
   "metadata": {},
   "source": [
    "### Load the data"
   ]
  },
  {
   "cell_type": "code",
   "execution_count": 2,
   "id": "d96d0379",
   "metadata": {},
   "outputs": [
    {
     "data": {
      "text/html": [
       "<div>\n",
       "<style scoped>\n",
       "    .dataframe tbody tr th:only-of-type {\n",
       "        vertical-align: middle;\n",
       "    }\n",
       "\n",
       "    .dataframe tbody tr th {\n",
       "        vertical-align: top;\n",
       "    }\n",
       "\n",
       "    .dataframe thead th {\n",
       "        text-align: right;\n",
       "    }\n",
       "</style>\n",
       "<table border=\"1\" class=\"dataframe\">\n",
       "  <thead>\n",
       "    <tr style=\"text-align: right;\">\n",
       "      <th></th>\n",
       "      <th>v1</th>\n",
       "      <th>v2</th>\n",
       "      <th>Unnamed: 2</th>\n",
       "      <th>Unnamed: 3</th>\n",
       "      <th>Unnamed: 4</th>\n",
       "    </tr>\n",
       "  </thead>\n",
       "  <tbody>\n",
       "    <tr>\n",
       "      <th>0</th>\n",
       "      <td>ham</td>\n",
       "      <td>Go until jurong point, crazy.. Available only ...</td>\n",
       "      <td>NaN</td>\n",
       "      <td>NaN</td>\n",
       "      <td>NaN</td>\n",
       "    </tr>\n",
       "    <tr>\n",
       "      <th>1</th>\n",
       "      <td>ham</td>\n",
       "      <td>Ok lar... Joking wif u oni...</td>\n",
       "      <td>NaN</td>\n",
       "      <td>NaN</td>\n",
       "      <td>NaN</td>\n",
       "    </tr>\n",
       "    <tr>\n",
       "      <th>2</th>\n",
       "      <td>spam</td>\n",
       "      <td>Free entry in 2 a wkly comp to win FA Cup fina...</td>\n",
       "      <td>NaN</td>\n",
       "      <td>NaN</td>\n",
       "      <td>NaN</td>\n",
       "    </tr>\n",
       "    <tr>\n",
       "      <th>3</th>\n",
       "      <td>ham</td>\n",
       "      <td>U dun say so early hor... U c already then say...</td>\n",
       "      <td>NaN</td>\n",
       "      <td>NaN</td>\n",
       "      <td>NaN</td>\n",
       "    </tr>\n",
       "    <tr>\n",
       "      <th>4</th>\n",
       "      <td>ham</td>\n",
       "      <td>Nah I don't think he goes to usf, he lives aro...</td>\n",
       "      <td>NaN</td>\n",
       "      <td>NaN</td>\n",
       "      <td>NaN</td>\n",
       "    </tr>\n",
       "  </tbody>\n",
       "</table>\n",
       "</div>"
      ],
      "text/plain": [
       "     v1                                                 v2 Unnamed: 2  \\\n",
       "0   ham  Go until jurong point, crazy.. Available only ...        NaN   \n",
       "1   ham                      Ok lar... Joking wif u oni...        NaN   \n",
       "2  spam  Free entry in 2 a wkly comp to win FA Cup fina...        NaN   \n",
       "3   ham  U dun say so early hor... U c already then say...        NaN   \n",
       "4   ham  Nah I don't think he goes to usf, he lives aro...        NaN   \n",
       "\n",
       "  Unnamed: 3 Unnamed: 4  \n",
       "0        NaN        NaN  \n",
       "1        NaN        NaN  \n",
       "2        NaN        NaN  \n",
       "3        NaN        NaN  \n",
       "4        NaN        NaN  "
      ]
     },
     "execution_count": 2,
     "metadata": {},
     "output_type": "execute_result"
    }
   ],
   "source": [
    "spam_df = pd.read_csv('spam.csv', encoding='latin-1')\n",
    "spam_df.head()"
   ]
  },
  {
   "cell_type": "markdown",
   "id": "55499086",
   "metadata": {},
   "source": [
    "### Drop the unwanted columns"
   ]
  },
  {
   "cell_type": "code",
   "execution_count": 3,
   "id": "1511559b",
   "metadata": {},
   "outputs": [
    {
     "data": {
      "text/plain": [
       "Index(['v1', 'v2', 'Unnamed: 2', 'Unnamed: 3', 'Unnamed: 4'], dtype='object')"
      ]
     },
     "execution_count": 3,
     "metadata": {},
     "output_type": "execute_result"
    }
   ],
   "source": [
    "spam_df.columns"
   ]
  },
  {
   "cell_type": "code",
   "execution_count": 4,
   "id": "7d228e85",
   "metadata": {},
   "outputs": [
    {
     "data": {
      "text/html": [
       "<div>\n",
       "<style scoped>\n",
       "    .dataframe tbody tr th:only-of-type {\n",
       "        vertical-align: middle;\n",
       "    }\n",
       "\n",
       "    .dataframe tbody tr th {\n",
       "        vertical-align: top;\n",
       "    }\n",
       "\n",
       "    .dataframe thead th {\n",
       "        text-align: right;\n",
       "    }\n",
       "</style>\n",
       "<table border=\"1\" class=\"dataframe\">\n",
       "  <thead>\n",
       "    <tr style=\"text-align: right;\">\n",
       "      <th></th>\n",
       "      <th>v1</th>\n",
       "      <th>v2</th>\n",
       "    </tr>\n",
       "  </thead>\n",
       "  <tbody>\n",
       "    <tr>\n",
       "      <th>0</th>\n",
       "      <td>ham</td>\n",
       "      <td>Go until jurong point, crazy.. Available only ...</td>\n",
       "    </tr>\n",
       "    <tr>\n",
       "      <th>1</th>\n",
       "      <td>ham</td>\n",
       "      <td>Ok lar... Joking wif u oni...</td>\n",
       "    </tr>\n",
       "    <tr>\n",
       "      <th>2</th>\n",
       "      <td>spam</td>\n",
       "      <td>Free entry in 2 a wkly comp to win FA Cup fina...</td>\n",
       "    </tr>\n",
       "    <tr>\n",
       "      <th>3</th>\n",
       "      <td>ham</td>\n",
       "      <td>U dun say so early hor... U c already then say...</td>\n",
       "    </tr>\n",
       "    <tr>\n",
       "      <th>4</th>\n",
       "      <td>ham</td>\n",
       "      <td>Nah I don't think he goes to usf, he lives aro...</td>\n",
       "    </tr>\n",
       "  </tbody>\n",
       "</table>\n",
       "</div>"
      ],
      "text/plain": [
       "     v1                                                 v2\n",
       "0   ham  Go until jurong point, crazy.. Available only ...\n",
       "1   ham                      Ok lar... Joking wif u oni...\n",
       "2  spam  Free entry in 2 a wkly comp to win FA Cup fina...\n",
       "3   ham  U dun say so early hor... U c already then say...\n",
       "4   ham  Nah I don't think he goes to usf, he lives aro..."
      ]
     },
     "execution_count": 4,
     "metadata": {},
     "output_type": "execute_result"
    }
   ],
   "source": [
    "data = spam_df.drop(columns=['Unnamed: 2', 'Unnamed: 3', 'Unnamed: 4'])\n",
    "data.head()"
   ]
  },
  {
   "cell_type": "markdown",
   "id": "30bcf754",
   "metadata": {},
   "source": [
    "### Split the data into dependent and independed variable (i.e. split features and target column)"
   ]
  },
  {
   "cell_type": "code",
   "execution_count": 5,
   "id": "5dd95e5d",
   "metadata": {},
   "outputs": [
    {
     "data": {
      "text/plain": [
       "(<bound method NDFrame.head of 0       Go until jurong point, crazy.. Available only ...\n",
       " 1                           Ok lar... Joking wif u oni...\n",
       " 2       Free entry in 2 a wkly comp to win FA Cup fina...\n",
       " 3       U dun say so early hor... U c already then say...\n",
       " 4       Nah I don't think he goes to usf, he lives aro...\n",
       "                               ...                        \n",
       " 5567    This is the 2nd time we have tried 2 contact u...\n",
       " 5568                Will Ì_ b going to esplanade fr home?\n",
       " 5569    Pity, * was in mood for that. So...any other s...\n",
       " 5570    The guy did some bitching but I acted like i'd...\n",
       " 5571                           Rofl. Its true to its name\n",
       " Name: v2, Length: 5572, dtype: object>,\n",
       " 0     ham\n",
       " 1     ham\n",
       " 2    spam\n",
       " 3     ham\n",
       " 4     ham\n",
       " Name: v1, dtype: object)"
      ]
     },
     "execution_count": 5,
     "metadata": {},
     "output_type": "execute_result"
    }
   ],
   "source": [
    "X = data['v2']\n",
    "y = data['v1']\n",
    "\n",
    "X.head, y.head()"
   ]
  },
  {
   "cell_type": "markdown",
   "id": "91d97424",
   "metadata": {},
   "source": [
    "### Convert the target column into numerical values"
   ]
  },
  {
   "cell_type": "code",
   "execution_count": 6,
   "id": "9596e322",
   "metadata": {},
   "outputs": [
    {
     "data": {
      "text/html": [
       "<div>\n",
       "<style scoped>\n",
       "    .dataframe tbody tr th:only-of-type {\n",
       "        vertical-align: middle;\n",
       "    }\n",
       "\n",
       "    .dataframe tbody tr th {\n",
       "        vertical-align: top;\n",
       "    }\n",
       "\n",
       "    .dataframe thead th {\n",
       "        text-align: right;\n",
       "    }\n",
       "</style>\n",
       "<table border=\"1\" class=\"dataframe\">\n",
       "  <thead>\n",
       "    <tr style=\"text-align: right;\">\n",
       "      <th></th>\n",
       "      <th>spam</th>\n",
       "    </tr>\n",
       "  </thead>\n",
       "  <tbody>\n",
       "    <tr>\n",
       "      <th>0</th>\n",
       "      <td>0</td>\n",
       "    </tr>\n",
       "    <tr>\n",
       "      <th>1</th>\n",
       "      <td>0</td>\n",
       "    </tr>\n",
       "    <tr>\n",
       "      <th>2</th>\n",
       "      <td>1</td>\n",
       "    </tr>\n",
       "    <tr>\n",
       "      <th>3</th>\n",
       "      <td>0</td>\n",
       "    </tr>\n",
       "    <tr>\n",
       "      <th>4</th>\n",
       "      <td>0</td>\n",
       "    </tr>\n",
       "  </tbody>\n",
       "</table>\n",
       "</div>"
      ],
      "text/plain": [
       "   spam\n",
       "0     0\n",
       "1     0\n",
       "2     1\n",
       "3     0\n",
       "4     0"
      ]
     },
     "execution_count": 6,
     "metadata": {},
     "output_type": "execute_result"
    }
   ],
   "source": [
    "y_one_hot = pd.get_dummies(y, drop_first=True)\n",
    "y_one_hot.head()"
   ]
  },
  {
   "cell_type": "code",
   "execution_count": 7,
   "id": "4d241449",
   "metadata": {},
   "outputs": [],
   "source": [
    "class SpamClassifier():\n",
    "    def __init__(self, X, y):\n",
    "        self.X = X\n",
    "        self.y = y\n",
    "        self.test_size = 0.2\n",
    "        self.random_state = 42\n",
    "    \n",
    "    # Clean the feature column\n",
    "    def clean_dataset(self, X, clean_type, method):\n",
    "        corpus = []\n",
    "        for i in range(len(X)):\n",
    "            sentence = re.sub('[^a-zA-Z]', ' ', X[i])\n",
    "            sentence = sentence.lower()\n",
    "            sentence = sentence.split()\n",
    "\n",
    "            # remove the words which are present in stop words and either stem or lemmatize them\n",
    "            words = []\n",
    "            if clean_type == 'stemmer':\n",
    "                words = [method.stem(word) for word in sentence if not word in stopwords.words('english')]\n",
    "            else:\n",
    "                words = [method.lemmatize(word) for word in sentence if not word in stopwords.words('english')]\n",
    "            sentence = ' '.join(words)\n",
    "            corpus.append(sentence)\n",
    "        return corpus\n",
    "    \n",
    "    # Convert the feature column into vectors\n",
    "    def data_into_vector(self, X):\n",
    "        tfidf = TfidfVectorizer()\n",
    "        return tfidf.fit_transform(X)\n",
    "    \n",
    "    # Clean the feature using portal stemming\n",
    "    def using_stemming(self, X):\n",
    "        stemmer = PorterStemmer()\n",
    "        return self.clean_dataset(X, 'stemmer', stemmer)\n",
    "    \n",
    "    # Clean the feature using snowball stemming\n",
    "    def using_stemming(self, X):\n",
    "        stemmer = SnowballStemmer('english')\n",
    "        return self.clean_dataset(X, 'stemmer', stemmer)\n",
    "    \n",
    "    # Clean the feature using lemmatization\n",
    "    def using_lemmatization(self, X):\n",
    "        lemma = WordNetLemmatizer()\n",
    "        return self.clean_dataset(X, 'lemmatization', lemma)\n",
    "    \n",
    "    # Training the model\n",
    "    def model_train(self, X_train, y_train):\n",
    "        return MultinomialNB().fit(X_train, y_train)\n",
    "    \n",
    "    # Prediction from model\n",
    "    def model_prediction(self, model, X_test):\n",
    "        return model.predict(X_test)\n",
    "    \n",
    "    # Count number of prediction are true or false using confusion matrix\n",
    "    def model_confusion_matrix(self, y_test, y_pred):\n",
    "        return confusion_matrix(y_test, y_pred)\n",
    "    \n",
    "    # Model accuracy score\n",
    "    def model_accuracy(self, y_test, y_pred):\n",
    "        return accuracy_score(y_test, y_pred)\n",
    "    \n",
    "    # Split the data into train and test data and train the model\n",
    "    def split_and_train(self, X, y):\n",
    "        X_train, X_test, y_train, y_test = train_test_split(X, y, \n",
    "                                                            test_size=self.test_size, \n",
    "                                                            random_state=self.random_state)\n",
    "\n",
    "        model = self.model_train(X_train, y_train)\n",
    "        y_pred = self.model_prediction(model, X_test)\n",
    "\n",
    "        confusion_mat = self.model_confusion_matrix(y_test, y_pred)\n",
    "        accuracy = self.model_accuracy(y_test, y_pred)\n",
    "\n",
    "        return (model, y_pred, confusion_mat, accuracy)\n",
    "    \n",
    "    # Call this to train model using stemming\n",
    "    def train_model_using_porter_stemming(self):\n",
    "        corpus = self.using_stemming(self.X)\n",
    "        X_vec = self.data_into_vector(corpus)\n",
    "        model, y_pred, confusion_mat, accuracy = self.split_and_train(X_vec, self.y)\n",
    "        \n",
    "        print(\"==============================================================\")\n",
    "        print(\"Confusion Matrix:\\n\", confusion_mat)\n",
    "        print(\"==============================================================\")\n",
    "        print(\"Accuracy:\", accuracy)\n",
    "        print(\"==============================================================\")\n",
    "    \n",
    "    # Call this to train model using stemming\n",
    "    def train_model_using_snowball_stemming(self):\n",
    "        corpus = self.using_stemming(self.X)\n",
    "        X_vec = self.data_into_vector(corpus)\n",
    "        model, y_pred, confusion_mat, accuracy = self.split_and_train(X_vec, self.y)\n",
    "        \n",
    "        print(\"==============================================================\")\n",
    "        print(\"Confusion Matrix:\\n\", confusion_mat)\n",
    "        print(\"==============================================================\")\n",
    "        print(\"Accuracy:\", accuracy)\n",
    "        print(\"==============================================================\")\n",
    "    \n",
    "    # Call this to train model using lemmatization\n",
    "    def train_model_using_lemmatization(self):\n",
    "        corpus = self.using_lemmatization(self.X)\n",
    "        X_vec = self.data_into_vector(corpus)\n",
    "        model, y_pred, confusion_mat, accuracy = self.split_and_train(X_vec, self.y)\n",
    "        \n",
    "        print(\"==============================================================\")\n",
    "        print(\"Confusion Matrix:\\n\", confusion_mat)\n",
    "        print(\"==============================================================\")\n",
    "        print(\"Accuracy:\", accuracy)\n",
    "        print(\"==============================================================\")"
   ]
  },
  {
   "cell_type": "code",
   "execution_count": 8,
   "id": "f2379e95",
   "metadata": {},
   "outputs": [],
   "source": [
    "spam_classifier_stem = SpamClassifier(X, y_one_hot)"
   ]
  },
  {
   "cell_type": "code",
   "execution_count": 9,
   "id": "73c1377a",
   "metadata": {},
   "outputs": [
    {
     "name": "stdout",
     "output_type": "stream",
     "text": [
      "==============================================================\n",
      "Confusion Matrix:\n",
      " [[964   1]\n",
      " [ 41 109]]\n",
      "==============================================================\n",
      "Accuracy: 0.9623318385650225\n",
      "==============================================================\n",
      "Model running time: 57.09599733352661\n"
     ]
    },
    {
     "name": "stderr",
     "output_type": "stream",
     "text": [
      "C:\\ProgramData\\Anaconda3\\lib\\site-packages\\sklearn\\utils\\validation.py:985: DataConversionWarning: A column-vector y was passed when a 1d array was expected. Please change the shape of y to (n_samples, ), for example using ravel().\n",
      "  y = column_or_1d(y, warn=True)\n"
     ]
    }
   ],
   "source": [
    "start_time = time.time()\n",
    "spam_classifier_stem.train_model_using_porter_stemming()\n",
    "end_time = time.time()\n",
    "print(\"Model running time:\", end_time-start_time)"
   ]
  },
  {
   "cell_type": "code",
   "execution_count": 10,
   "id": "7f5667a9",
   "metadata": {},
   "outputs": [
    {
     "name": "stdout",
     "output_type": "stream",
     "text": [
      "==============================================================\n",
      "Confusion Matrix:\n",
      " [[964   1]\n",
      " [ 41 109]]\n",
      "==============================================================\n",
      "Accuracy: 0.9623318385650225\n",
      "==============================================================\n",
      "Model running time: 56.72276854515076\n"
     ]
    },
    {
     "name": "stderr",
     "output_type": "stream",
     "text": [
      "C:\\ProgramData\\Anaconda3\\lib\\site-packages\\sklearn\\utils\\validation.py:985: DataConversionWarning: A column-vector y was passed when a 1d array was expected. Please change the shape of y to (n_samples, ), for example using ravel().\n",
      "  y = column_or_1d(y, warn=True)\n"
     ]
    }
   ],
   "source": [
    "start_time = time.time()\n",
    "spam_classifier_stem.train_model_using_snowball_stemming()\n",
    "end_time = time.time()\n",
    "print(\"Model running time:\", end_time-start_time)"
   ]
  },
  {
   "cell_type": "code",
   "execution_count": 11,
   "id": "ff43f7eb",
   "metadata": {},
   "outputs": [
    {
     "name": "stdout",
     "output_type": "stream",
     "text": [
      "==============================================================\n",
      "Confusion Matrix:\n",
      " [[965   0]\n",
      " [ 42 108]]\n",
      "==============================================================\n",
      "Accuracy: 0.9623318385650225\n",
      "==============================================================\n",
      "Model running time: 57.69467544555664\n"
     ]
    },
    {
     "name": "stderr",
     "output_type": "stream",
     "text": [
      "C:\\ProgramData\\Anaconda3\\lib\\site-packages\\sklearn\\utils\\validation.py:985: DataConversionWarning: A column-vector y was passed when a 1d array was expected. Please change the shape of y to (n_samples, ), for example using ravel().\n",
      "  y = column_or_1d(y, warn=True)\n"
     ]
    }
   ],
   "source": [
    "start_time = time.time()\n",
    "spam_classifier_stem.train_model_using_lemmatization()\n",
    "end_time = time.time()\n",
    "print(\"Model running time:\", end_time-start_time)"
   ]
  },
  {
   "cell_type": "code",
   "execution_count": null,
   "id": "72bb523b",
   "metadata": {},
   "outputs": [],
   "source": []
  }
 ],
 "metadata": {
  "kernelspec": {
   "display_name": "Python 3 (ipykernel)",
   "language": "python",
   "name": "python3"
  },
  "language_info": {
   "codemirror_mode": {
    "name": "ipython",
    "version": 3
   },
   "file_extension": ".py",
   "mimetype": "text/x-python",
   "name": "python",
   "nbconvert_exporter": "python",
   "pygments_lexer": "ipython3",
   "version": "3.9.7"
  }
 },
 "nbformat": 4,
 "nbformat_minor": 5
}
